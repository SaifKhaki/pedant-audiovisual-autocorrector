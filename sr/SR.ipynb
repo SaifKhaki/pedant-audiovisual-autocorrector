{
 "cells": [
  {
   "cell_type": "code",
   "execution_count": 1,
   "metadata": {},
   "outputs": [
    {
     "name": "stdout",
     "output_type": "stream",
     "text": [
      "Requirement already satisfied: SpeechRecognition in /home/saifbinkhaki/Documents/FYP/flask_app/venv/lib/python3.8/site-packages (3.8.1)\n",
      "Note: you may need to restart the kernel to use updated packages.\n"
     ]
    }
   ],
   "source": [
    "%pip install SpeechRecognition"
   ]
  },
  {
   "cell_type": "code",
   "execution_count": 2,
   "metadata": {},
   "outputs": [
    {
     "data": {
      "text/plain": [
       "'3.8.1'"
      ]
     },
     "execution_count": 2,
     "metadata": {},
     "output_type": "execute_result"
    }
   ],
   "source": [
    "import speech_recognition as sr\n",
    "sr.__version__"
   ]
  },
  {
   "cell_type": "code",
   "execution_count": 3,
   "metadata": {},
   "outputs": [],
   "source": [
    "r = sr.Recognizer()"
   ]
  },
  {
   "cell_type": "markdown",
   "metadata": {},
   "source": [
    "### Recording or Uploading Audio File"
   ]
  },
  {
   "cell_type": "code",
   "execution_count": 4,
   "metadata": {},
   "outputs": [],
   "source": [
    "harvard = sr.AudioFile('sample.wav')\n",
    "with harvard as source:\n",
    "    audio = r.record(source)"
   ]
  },
  {
   "cell_type": "code",
   "execution_count": 5,
   "metadata": {},
   "outputs": [
    {
     "data": {
      "text/plain": [
       "speech_recognition.AudioData"
      ]
     },
     "execution_count": 5,
     "metadata": {},
     "output_type": "execute_result"
    }
   ],
   "source": [
    "type(audio)"
   ]
  },
  {
   "cell_type": "markdown",
   "metadata": {},
   "source": [
    "### Doing it with Google"
   ]
  },
  {
   "cell_type": "markdown",
   "metadata": {},
   "source": [
    "I have an observation here, that the free google API embeded here in SpeechRecognition library is only taking a few seconds or possibly, the first second of the audio."
   ]
  },
  {
   "cell_type": "code",
   "execution_count": 6,
   "metadata": {},
   "outputs": [
    {
     "data": {
      "text/plain": [
       "'I am going to the'"
      ]
     },
     "execution_count": 6,
     "metadata": {},
     "output_type": "execute_result"
    }
   ],
   "source": [
    "r.recognize_google(audio)"
   ]
  },
  {
   "cell_type": "code",
   "execution_count": 7,
   "metadata": {},
   "outputs": [
    {
     "data": {
      "text/plain": [
       "{'alternative': [{'transcript': 'I am going to the', 'confidence': 0.83460408},\n",
       "  {'transcript': 'I am going to the back'},\n",
       "  {'transcript': 'I am going to the WhatsApp'},\n",
       "  {'transcript': 'I am going to'},\n",
       "  {'transcript': 'I am going to bus'}],\n",
       " 'final': True}"
      ]
     },
     "execution_count": 7,
     "metadata": {},
     "output_type": "execute_result"
    }
   ],
   "source": [
    "r.recognize_google(audio, show_all=True)"
   ]
  },
  {
   "cell_type": "markdown",
   "metadata": {},
   "source": [
    "### Doing it with IBM"
   ]
  },
  {
   "cell_type": "markdown",
   "metadata": {},
   "source": [
    "IBM plan coming with free tier is 500 Minutes per Month."
   ]
  },
  {
   "cell_type": "code",
   "execution_count": 8,
   "metadata": {},
   "outputs": [
    {
     "name": "stdout",
     "output_type": "stream",
     "text": [
      "Requirement already satisfied: ibm-watson in /home/saifbinkhaki/Documents/FYP/flask_app/venv/lib/python3.8/site-packages (5.3.1)\n",
      "Requirement already satisfied: ibm-cloud-sdk-core==3.*,>=3.3.6 in /home/saifbinkhaki/Documents/FYP/flask_app/venv/lib/python3.8/site-packages (from ibm-watson) (3.15.0)\n",
      "Requirement already satisfied: python-dateutil>=2.5.3 in /home/saifbinkhaki/Documents/FYP/flask_app/venv/lib/python3.8/site-packages (from ibm-watson) (2.8.2)\n",
      "Requirement already satisfied: websocket-client==1.1.0 in /home/saifbinkhaki/Documents/FYP/flask_app/venv/lib/python3.8/site-packages (from ibm-watson) (1.1.0)\n",
      "Requirement already satisfied: requests<3.0,>=2.0 in /home/saifbinkhaki/Documents/FYP/flask_app/venv/lib/python3.8/site-packages (from ibm-watson) (2.27.1)\n",
      "Requirement already satisfied: urllib3<2.0.0,>=1.26.0 in /home/saifbinkhaki/Documents/FYP/flask_app/venv/lib/python3.8/site-packages (from ibm-cloud-sdk-core==3.*,>=3.3.6->ibm-watson) (1.26.7)\n",
      "Requirement already satisfied: PyJWT<3.0.0,>=2.0.1 in /home/saifbinkhaki/Documents/FYP/flask_app/venv/lib/python3.8/site-packages (from ibm-cloud-sdk-core==3.*,>=3.3.6->ibm-watson) (2.3.0)\n",
      "Requirement already satisfied: six>=1.5 in /home/saifbinkhaki/Documents/FYP/flask_app/venv/lib/python3.8/site-packages (from python-dateutil>=2.5.3->ibm-watson) (1.16.0)\n",
      "Requirement already satisfied: certifi>=2017.4.17 in /home/saifbinkhaki/Documents/FYP/flask_app/venv/lib/python3.8/site-packages (from requests<3.0,>=2.0->ibm-watson) (2021.10.8)\n",
      "Requirement already satisfied: idna<4,>=2.5; python_version >= \"3\" in /home/saifbinkhaki/Documents/FYP/flask_app/venv/lib/python3.8/site-packages (from requests<3.0,>=2.0->ibm-watson) (3.3)\n",
      "Requirement already satisfied: charset-normalizer~=2.0.0; python_version >= \"3\" in /home/saifbinkhaki/Documents/FYP/flask_app/venv/lib/python3.8/site-packages (from requests<3.0,>=2.0->ibm-watson) (2.0.12)\n",
      "Note: you may need to restart the kernel to use updated packages.\n"
     ]
    }
   ],
   "source": [
    "%pip install ibm-watson"
   ]
  },
  {
   "cell_type": "code",
   "execution_count": 9,
   "metadata": {},
   "outputs": [],
   "source": [
    "from ibm_watson import SpeechToTextV1\n",
    "from ibm_watson.websocket import RecognizeCallback, AudioSource \n",
    "from ibm_cloud_sdk_core.authenticators import IAMAuthenticator"
   ]
  },
  {
   "cell_type": "code",
   "execution_count": 10,
   "metadata": {},
   "outputs": [],
   "source": [
    "apikey = 'jXJZ0DFtm0iLg-XinOxqIRgbHlT-376eS3TfNPlFq37i'\n",
    "url = 'https://api.eu-gb.speech-to-text.watson.cloud.ibm.com/instances/cabe9e09-1272-475f-a3e1-77c4c50ce8d2'"
   ]
  },
  {
   "cell_type": "code",
   "execution_count": 11,
   "metadata": {},
   "outputs": [],
   "source": [
    "# Setup Service\n",
    "authenticator = IAMAuthenticator(apikey)\n",
    "stt = SpeechToTextV1(authenticator=authenticator)\n",
    "stt.set_service_url(url)"
   ]
  },
  {
   "cell_type": "code",
   "execution_count": 13,
   "metadata": {},
   "outputs": [],
   "source": [
    "# Perform conversion\n",
    "with open('sample.mp3', 'rb') as f:\n",
    "    res = stt.recognize(audio=f, content_type='audio/mp3', model='en-US_NarrowbandModel').get_result()"
   ]
  },
  {
   "cell_type": "code",
   "execution_count": 14,
   "metadata": {},
   "outputs": [
    {
     "data": {
      "text/plain": [
       "{'result_index': 0,\n",
       " 'results': [{'final': True,\n",
       "   'alternatives': [{'transcript': 'I am going to the bar but suddenly I remembered that I have a pending task to complete the audit ',\n",
       "     'confidence': 0.93}]}]}"
      ]
     },
     "execution_count": 14,
     "metadata": {},
     "output_type": "execute_result"
    }
   ],
   "source": [
    "res"
   ]
  },
  {
   "cell_type": "code",
   "execution_count": 15,
   "metadata": {},
   "outputs": [
    {
     "data": {
      "text/plain": [
       "'I am going to the bar but suddenly I remembered that I have a pending task to complete the audit '"
      ]
     },
     "execution_count": 15,
     "metadata": {},
     "output_type": "execute_result"
    }
   ],
   "source": [
    "text = res['results'][0]['alternatives'][0]['transcript']\n",
    "text"
   ]
  },
  {
   "cell_type": "code",
   "execution_count": 16,
   "metadata": {},
   "outputs": [
    {
     "data": {
      "text/plain": [
       "0.93"
      ]
     },
     "execution_count": 16,
     "metadata": {},
     "output_type": "execute_result"
    }
   ],
   "source": [
    "confidence = res['results'][0]['alternatives'][0]['confidence']\n",
    "confidence"
   ]
  },
  {
   "cell_type": "markdown",
   "metadata": {},
   "source": [
    "### SR with Sphinx and Wit.ai"
   ]
  },
  {
   "cell_type": "markdown",
   "metadata": {},
   "source": [
    "sudo apt-get install -qq python python-dev python-pip build-essential swig libpulse-dev"
   ]
  },
  {
   "cell_type": "markdown",
   "metadata": {},
   "source": [
    "sudo apt update"
   ]
  },
  {
   "cell_type": "markdown",
   "metadata": {},
   "source": [
    "sudo apt install pocketsphinx"
   ]
  },
  {
   "cell_type": "code",
   "execution_count": 18,
   "metadata": {},
   "outputs": [
    {
     "name": "stdout",
     "output_type": "stream",
     "text": [
      "Sphinx error; missing PocketSphinx module: ensure that PocketSphinx is set up correctly.\n",
      "Wit.ai recognition results:\n",
      "{'WARNING': 'DEPRECATED',\n",
      " '_text': 'I am going to the bar but suddenly i remember that i have a pending '\n",
      "          'task to complete the audit',\n",
      " 'entities': {},\n",
      " 'msg_id': '0RLmficFFHCDabV1e'}\n"
     ]
    }
   ],
   "source": [
    "#!/usr/bin/env python3\n",
    "\n",
    "from pprint import pprint\n",
    "import speech_recognition as sr\n",
    "\n",
    "# obtain path to \"english.wav\" in the same folder as this script\n",
    "from os import path\n",
    "\n",
    "AUDIO_FILE = path.join(\"sample.wav\")\n",
    "# AUDIO_FILE = path.join(path.dirname(path.realpath(__file__)), \"french.aiff\")\n",
    "# AUDIO_FILE = path.join(path.dirname(path.realpath(__file__)), \"chinese.flac\")\n",
    "\n",
    "# use the audio file as the audio source\n",
    "r = sr.Recognizer()\n",
    "with sr.AudioFile(AUDIO_FILE) as source:\n",
    "    audio = r.record(source)  # read the entire audio file\n",
    "\n",
    "# recognize speech using Sphinx\n",
    "try:\n",
    "    print(\"Sphinx thinks you said \" + r.recognize_sphinx(audio))\n",
    "except sr.UnknownValueError:\n",
    "    print(\"Sphinx could not understand audio\")\n",
    "except sr.RequestError as e:\n",
    "    print(\"Sphinx error; {0}\".format(e))\n",
    "\n",
    "# recognize speech using Wit.ai\n",
    "WIT_AI_KEY = \"A26KM7ZXBWPFETJQDSPN4YQFCYH62J2W\"  # Wit.ai keys are 32-character uppercase alphanumeric strings\n",
    "try:\n",
    "    print(\"Wit.ai recognition results:\")\n",
    "    pprint(r.recognize_wit(audio, key=WIT_AI_KEY, show_all=True))  # pretty-print the recognition result\n",
    "except sr.UnknownValueError:\n",
    "    print(\"Wit.ai could not understand audio\")\n",
    "except sr.RequestError as e:\n",
    "    print(\"Could not request results from Wit.ai service; {0}\".format(e))"
   ]
  },
  {
   "cell_type": "markdown",
   "metadata": {},
   "source": [
    "### SR with Azure"
   ]
  },
  {
   "cell_type": "code",
   "execution_count": 19,
   "metadata": {},
   "outputs": [
    {
     "name": "stdout",
     "output_type": "stream",
     "text": [
      "Requirement already satisfied: azure-cognitiveservices-speech in /home/saifbinkhaki/Documents/FYP/flask_app/venv/lib/python3.8/site-packages (1.20.0)\n",
      "Note: you may need to restart the kernel to use updated packages.\n"
     ]
    }
   ],
   "source": [
    "%pip install azure-cognitiveservices-speech"
   ]
  },
  {
   "cell_type": "code",
   "execution_count": 20,
   "metadata": {},
   "outputs": [
    {
     "name": "stdout",
     "output_type": "stream",
     "text": [
      "Collecting azure\n",
      "  Using cached azure-5.0.0.zip (4.6 kB)\n",
      "\u001b[31m    ERROR: Command errored out with exit status 1:\n",
      "     command: /home/saifbinkhaki/Documents/FYP/flask_app/venv/bin/python -c 'import sys, setuptools, tokenize; sys.argv[0] = '\"'\"'/tmp/pip-install-13vcas5g/azure/setup.py'\"'\"'; __file__='\"'\"'/tmp/pip-install-13vcas5g/azure/setup.py'\"'\"';f=getattr(tokenize, '\"'\"'open'\"'\"', open)(__file__);code=f.read().replace('\"'\"'\\r\\n'\"'\"', '\"'\"'\\n'\"'\"');f.close();exec(compile(code, __file__, '\"'\"'exec'\"'\"'))' egg_info --egg-base /tmp/pip-install-13vcas5g/azure/pip-egg-info\n",
      "         cwd: /tmp/pip-install-13vcas5g/azure/\n",
      "    Complete output (24 lines):\n",
      "    Traceback (most recent call last):\n",
      "      File \"<string>\", line 1, in <module>\n",
      "      File \"/tmp/pip-install-13vcas5g/azure/setup.py\", line 60, in <module>\n",
      "        raise RuntimeError(message)\n",
      "    RuntimeError:\n",
      "    \n",
      "    Starting with v5.0.0, the 'azure' meta-package is deprecated and cannot be installed anymore.\n",
      "    Please install the service specific packages prefixed by `azure` needed for your application.\n",
      "    \n",
      "    The complete list of available packages can be found at:\n",
      "    https://aka.ms/azsdk/python/all\n",
      "    \n",
      "    Here's a non-exhaustive list of common packages:\n",
      "    \n",
      "    -  azure-mgmt-compute (https://pypi.python.org/pypi/azure-mgmt-compute) : Management of Virtual Machines, etc.\n",
      "    -  azure-mgmt-storage (https://pypi.python.org/pypi/azure-mgmt-storage) : Management of storage accounts.\n",
      "    -  azure-mgmt-resource (https://pypi.python.org/pypi/azure-mgmt-resource) : Generic package about Azure Resource Management (ARM)\n",
      "    -  azure-keyvault-secrets (https://pypi.python.org/pypi/azure-keyvault-secrets) : Access to secrets in Key Vault\n",
      "    -  azure-storage-blob (https://pypi.python.org/pypi/azure-storage-blob) : Access to blobs in storage accounts\n",
      "    \n",
      "    A more comprehensive discussion of the rationale for this decision can be found in the following issue:\n",
      "    https://github.com/Azure/azure-sdk-for-python/issues/10646\n",
      "    \n",
      "    \n",
      "    ----------------------------------------\u001b[0m\n",
      "\u001b[31mERROR: Command errored out with exit status 1: python setup.py egg_info Check the logs for full command output.\u001b[0m\n",
      "Note: you may need to restart the kernel to use updated packages.\n"
     ]
    }
   ],
   "source": [
    "%pip install azure"
   ]
  },
  {
   "cell_type": "code",
   "execution_count": 23,
   "metadata": {},
   "outputs": [
    {
     "name": "stdout",
     "output_type": "stream",
     "text": [
      " as\n"
     ]
    }
   ],
   "source": [
    "import azure.cognitiveservices.speech as speechsdk\n",
    "\n",
    "def from_file():\n",
    "    speech_config = speechsdk.SpeechConfig(subscription=\"9289c64dc9ef4e79b070a73960c613a4\", region=\"eastus\")\n",
    "    audio_input = speechsdk.AudioConfig(filename=\"sample.wav\")\n",
    "    speech_recognizer = speechsdk.SpeechRecognizer(speech_config=speech_config, audio_config=audio_input)\n",
    "    \n",
    "    result = speech_recognizer.recognize_once_async().get()\n",
    "    print(result.text,\"as\")\n",
    "\n",
    "from_file()"
   ]
  },
  {
   "cell_type": "markdown",
   "metadata": {},
   "source": [
    "### SR with Houndify"
   ]
  },
  {
   "cell_type": "code",
   "execution_count": null,
   "metadata": {},
   "outputs": [
    {
     "name": "stdout",
     "output_type": "stream",
     "text": [
      "Houndify recognition results:\n",
      "{'ASRUsage': [{'ASRComponent': 'Audio',\n",
      "               'AudioLength': 5.91,\n",
      "               'ComponentUniqueID': '80800d1e-2876-4cc6-91dd-9033d1dc9c9c',\n",
      "               'IncrementalAudioLength': 5.91}],\n",
      " 'AllResults': [{'AutoListen': False,\n",
      "                 'CommandKind': 'SpeechToTextOnlyCommand',\n",
      "                 'FormattedTranscription': 'I am going to the bar but suddenly '\n",
      "                                           'I remembered that I have a pending '\n",
      "                                           'task to complete the audit',\n",
      "                 'NativeData': {'FormattedTranscription': 'I am going to the '\n",
      "                                                          'bar but suddenly I '\n",
      "                                                          'remembered that I '\n",
      "                                                          'have a pending task '\n",
      "                                                          'to complete the '\n",
      "                                                          'audit',\n",
      "                                'RawTranscription': 'i am going to the bar but '\n",
      "                                                    'suddenly i remembered '\n",
      "                                                    'that i have a pending '\n",
      "                                                    'task to complete the '\n",
      "                                                    'audit'},\n",
      "                 'RawTranscription': 'i am going to the bar but suddenly i '\n",
      "                                     'remembered that i have a pending task to '\n",
      "                                     'complete the audit',\n",
      "                 'SpokenResponse': 'i am going to the bar but suddenly i '\n",
      "                                   'remembered that i have a pending task to '\n",
      "                                   'complete the audit',\n",
      "                 'SpokenResponseLong': 'i am going to the bar but suddenly i '\n",
      "                                       'remembered that i have a pending task '\n",
      "                                       'to complete the audit',\n",
      "                 'ViewType': ['Native', 'None'],\n",
      "                 'WrittenResponse': 'I am going to the bar but suddenly I '\n",
      "                                    'remembered that I have a pending task to '\n",
      "                                    'complete the audit',\n",
      "                 'WrittenResponseLong': 'I am going to the bar but suddenly I '\n",
      "                                        'remembered that I have a pending task '\n",
      "                                        'to complete the audit'}],\n",
      " 'AudioLength': 5.91,\n",
      " 'BuildInfo': {'BuildNumber': '7505',\n",
      "               'Date': 'Sun Feb 20 22:06:55 PST 2022',\n",
      "               'GitBranch': 'origin/master',\n",
      "               'GitCommit': 'c16d45364d3a69e565f7e30992f4f5a76ec51758',\n",
      "               'Kind': 'Low Fat',\n",
      "               'Machine': 'f28hbm2.pnp.melodis.com',\n",
      "               'User': 'jenkinslave',\n",
      "               'Variant': 'release'},\n",
      " 'Disambiguation': {'ChoiceData': [{'ASRConfidence': 0.5349604487419128,\n",
      "                                    'ConfidenceScore': 0.6859999999999999,\n",
      "                                    'FixedTranscription': 'i am going to the '\n",
      "                                                          'bar but suddenly i '\n",
      "                                                          'remembered that i '\n",
      "                                                          'have a pending task '\n",
      "                                                          'to complete the '\n",
      "                                                          'audit',\n",
      "                                    'FormattedTranscription': 'i am going to '\n",
      "                                                              'the bar but '\n",
      "                                                              'suddenly i '\n",
      "                                                              'remembered that '\n",
      "                                                              'i have a '\n",
      "                                                              'pending task to '\n",
      "                                                              'complete the '\n",
      "                                                              'audit',\n",
      "                                    'Transcription': 'i am going to the bar '\n",
      "                                                     'but suddenly i '\n",
      "                                                     'remembered that i have a '\n",
      "                                                     'pending task to complete '\n",
      "                                                     'the audit'}],\n",
      "                    'NumToShow': 1},\n",
      " 'DomainUsage': [{'CreditsUsed': 0,\n",
      "                  'Domain': 'Speech To Text Only',\n",
      "                  'DomainUniqueID': '3224afd8-821b-4e3e-b206-d92d160048cb'}],\n",
      " 'Format': 'SoundHoundVoiceSearchResult',\n",
      " 'FormatVersion': '1.0',\n",
      " 'NumToReturn': 1,\n",
      " 'QueryID': 'cdc71996-7a05-3c56-e172-431485452920',\n",
      " 'RealSpeechTime': 3.22229,\n",
      " 'RealTime': 3.225185,\n",
      " 'ResultsAreFinal': [True],\n",
      " 'ServerGeneratedId': 'cdc71996-7a05-3c56-e172-431485452920',\n",
      " 'Status': 'OK'}\n"
     ]
    }
   ],
   "source": [
    "# recognize speech using Houndify\n",
    "HOUNDIFY_CLIENT_ID = \"iOuUT9lsQAI3nO8E7_vx8g==\"  # Houndify client IDs are Base64-encoded strings\n",
    "HOUNDIFY_CLIENT_KEY = \"VMxp_FhmxtLNyTVqA4_eZspCUR4BwMzwu99VW96Sn3PNQW1T_NkYeiETqW6z4OuwMq8k5X03B21-B6y0TsLJuQ==\"  # Houndify client keys are Base64-encoded strings\n",
    "try:\n",
    "    print(\"Houndify recognition results:\")\n",
    "    pprint(r.recognize_houndify(audio, client_id=HOUNDIFY_CLIENT_ID, client_key=HOUNDIFY_CLIENT_KEY, show_all=True))\n",
    "except sr.UnknownValueError:\n",
    "    print(\"Houndify could not understand audio\")\n",
    "except sr.RequestError as e:\n",
    "    print(\"Could not request results from Houndify service; {0}\".format(e))"
   ]
  },
  {
   "cell_type": "code",
   "execution_count": null,
   "metadata": {},
   "outputs": [],
   "source": []
  }
 ],
 "metadata": {
  "interpreter": {
   "hash": "1ce606154e5bfeabbc804a67024cfbb17882e43f32dae76643cb42bd0318a156"
  },
  "kernelspec": {
   "display_name": "Python 3",
   "language": "python",
   "name": "python3"
  },
  "language_info": {
   "codemirror_mode": {
    "name": "ipython",
    "version": 3
   },
   "file_extension": ".py",
   "mimetype": "text/x-python",
   "name": "python",
   "nbconvert_exporter": "python",
   "pygments_lexer": "ipython3",
   "version": "3.8.10"
  }
 },
 "nbformat": 4,
 "nbformat_minor": 4
}
